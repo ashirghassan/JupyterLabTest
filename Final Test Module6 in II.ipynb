{
 "cells": [
  {
   "cell_type": "markdown",
   "id": "34e43cfa-f001-4bcc-b1f3-898e49d8d8d5",
   "metadata": {},
   "source": [
    "# Data Science Tools and Ecosystem"
   ]
  },
  {
   "cell_type": "markdown",
   "id": "9dacaa54-58c6-48c8-8828-a1ceb8225109",
   "metadata": {},
   "source": [
    "In this notebook, Data Science Tools and Ecosystem are summarized."
   ]
  },
  {
   "cell_type": "markdown",
   "id": "4e707311-aaa5-4ffd-8b5a-fd620de6de3d",
   "metadata": {},
   "source": [
    "**Objectives:**\n",
    "* List popular languages for Data Science\n",
    "* Some of the popular languages that Data Scientists use\n",
    "* Some of the commonly used libraries used by Data Scientist\n",
    "* Evaluating arithmetic expressions"
   ]
  },
  {
   "cell_type": "markdown",
   "id": "a5dc064d-34aa-4c8d-b6f0-36f76018c70d",
   "metadata": {},
   "source": [
    "Some of the popular languages that Data Scientists use are:\n",
    "1. Python\n",
    "2. Javascript\n",
    "3. Java\n",
    "4. C++\n",
    "5. C"
   ]
  },
  {
   "cell_type": "markdown",
   "id": "79d44ea9-8dfa-4e1b-a347-0d768d8f820e",
   "metadata": {},
   "source": [
    "Some of the commonly used libraries used by Data Scientists include:\n",
    "1. Matplotlib\n",
    "2. Pandas\n",
    "3. Numpy\n",
    "4. Scikit-learn\n",
    "5. Tensorflow"
   ]
  },
  {
   "cell_type": "markdown",
   "id": "cd2e5733-2e0a-4742-90a3-9b519b355a39",
   "metadata": {},
   "source": [
    "| Data Science Tools |\n",
    "|:------------------:|\n",
    "|Pandas|\n",
    "|Numpy|\n",
    "|Scikit-learn|"
   ]
  },
  {
   "cell_type": "markdown",
   "id": "4d804338-fbf3-40f6-9c68-0d0798f2087f",
   "metadata": {},
   "source": [
    "### Below are a few examples of evaluating arithmetic expressions in Python"
   ]
  },
  {
   "cell_type": "code",
   "execution_count": 3,
   "id": "a80a02f5-89f2-4e7e-9ab5-433717fcc0cf",
   "metadata": {},
   "outputs": [
    {
     "data": {
      "text/plain": [
       "17"
      ]
     },
     "execution_count": 3,
     "metadata": {},
     "output_type": "execute_result"
    }
   ],
   "source": [
    "# This a simple arithmetic expression to mutiply then add integers\n",
    "(3*4)+5"
   ]
  },
  {
   "cell_type": "code",
   "execution_count": 4,
   "id": "952a0a93-3d03-4009-bd00-530974f602e8",
   "metadata": {},
   "outputs": [
    {
     "name": "stdout",
     "output_type": "stream",
     "text": [
      "3.3333333333333335\n"
     ]
    }
   ],
   "source": [
    "# This will convert 200 minutes to hours by diving by 60.\n",
    "min=200\n",
    "hours= min/60\n",
    "print(hours)"
   ]
  },
  {
   "cell_type": "markdown",
   "id": "5d075c8f-cd60-4970-b98a-4b9b0bd3b58b",
   "metadata": {},
   "source": [
    "## Author\n",
    "Ashir Gul Hassan"
   ]
  },
  {
   "cell_type": "code",
   "execution_count": null,
   "id": "5f7c6734-19e2-4fe2-a149-1681c2997949",
   "metadata": {},
   "outputs": [],
   "source": []
  }
 ],
 "metadata": {
  "kernelspec": {
   "display_name": "Python 3 (ipykernel)",
   "language": "python",
   "name": "python3"
  },
  "language_info": {
   "codemirror_mode": {
    "name": "ipython",
    "version": 3
   },
   "file_extension": ".py",
   "mimetype": "text/x-python",
   "name": "python",
   "nbconvert_exporter": "python",
   "pygments_lexer": "ipython3",
   "version": "3.12.8"
  }
 },
 "nbformat": 4,
 "nbformat_minor": 5
}
